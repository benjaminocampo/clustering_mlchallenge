{
 "cells": [
  {
   "cell_type": "code",
   "execution_count": null,
   "id": "d08d8c34",
   "metadata": {
    "lines_to_next_cell": 0
   },
   "outputs": [],
   "source": [
    "import matplotlib.pyplot as plt\n",
    "import pandas as pd\n",
    "from gensim.models import FastText\n",
    "from sklearn.cluster import KMeans\n",
    "from utils import (get_embedding, get_embedding_2DTSNE, get_object_types,\n",
    "                   tokenize_plan, plot_vocabulary_kmeans,\n",
    "                   plot_vocabulary_2DTSNE)\n",
    "\n",
    "TRAIN_URL = \"https://www.famaf.unc.edu.ar/~nocampo043/training-instances.parquet.gzip\"\n",
    "TEST_URL = \"https://www.famaf.unc.edu.ar/~nocampo043/evaluation-instances.parquet.gzip\"\n",
    "\n",
    "df_train = pd.read_parquet(TRAIN_URL)\n",
    "df_test = pd.read_parquet(TEST_URL)"
   ]
  },
  {
   "cell_type": "markdown",
   "id": "12a1a3eb",
   "metadata": {
    "lines_to_next_cell": 0
   },
   "source": [
    "## FastText"
   ]
  },
  {
   "cell_type": "code",
   "execution_count": null,
   "id": "b03cbb44",
   "metadata": {
    "lines_to_next_cell": 0
   },
   "outputs": [],
   "source": [
    "sentences = df_train[\"relaxed_plan\"].to_numpy()\n",
    "fasttext = FastText(sentences=[tokenize_plan(s) for s in sentences],\n",
    "                    min_count=1,\n",
    "                    vector_size=100,\n",
    "                    window=7)"
   ]
  },
  {
   "cell_type": "markdown",
   "id": "43502d9d",
   "metadata": {
    "lines_to_next_cell": 0
   },
   "source": [
    "## TSNE"
   ]
  },
  {
   "cell_type": "code",
   "execution_count": null,
   "id": "7e1d727d",
   "metadata": {
    "lines_to_next_cell": 0
   },
   "outputs": [],
   "source": [
    "model = fasttext.wv\n",
    "vocab = fasttext.wv.index_to_key\n",
    "\n",
    "embedding = get_embedding(vocab, model)\n",
    "embedding_TSNE = get_embedding_2DTSNE(vocab, model)\n",
    "X = embedding.drop(columns=[\"word\"]).to_numpy()\n",
    "X_TSNE = embedding_TSNE.drop(columns=[\"word\"]).to_numpy()"
   ]
  },
  {
   "cell_type": "markdown",
   "id": "eba085da",
   "metadata": {
    "lines_to_next_cell": 0
   },
   "source": [
    "## KMeans"
   ]
  },
  {
   "cell_type": "code",
   "execution_count": null,
   "id": "7ce839b0",
   "metadata": {
    "lines_to_next_cell": 0
   },
   "outputs": [],
   "source": [
    "kmeans = KMeans(n_clusters=4)\n",
    "kmeans.fit(X)"
   ]
  },
  {
   "cell_type": "markdown",
   "id": "56dcaffc",
   "metadata": {
    "lines_to_next_cell": 0
   },
   "source": [
    "## Object type"
   ]
  },
  {
   "cell_type": "code",
   "execution_count": null,
   "id": "4b679a2c",
   "metadata": {
    "lines_to_next_cell": 0
   },
   "outputs": [],
   "source": [
    "obj_types, obj_indices = get_object_types(vocab)"
   ]
  },
  {
   "cell_type": "markdown",
   "id": "8596027b",
   "metadata": {
    "lines_to_next_cell": 0
   },
   "source": [
    "## Plots"
   ]
  },
  {
   "cell_type": "code",
   "execution_count": null,
   "id": "00ae8d52",
   "metadata": {
    "lines_to_next_cell": 0
   },
   "outputs": [],
   "source": [
    "_, (ax_kmeans, ax_tsne) = plt.subplots(1, 2, figsize=(30, 10))\n",
    "plot_vocabulary_2DTSNE(X_TSNE, vocab, obj_types, obj_indices, ax_tsne)\n",
    "plot_vocabulary_kmeans(X_TSNE, kmeans, ax_kmeans)\n",
    "ax_kmeans.grid()\n",
    "ax_tsne.grid()"
   ]
  },
  {
   "cell_type": "markdown",
   "id": "a11cd689",
   "metadata": {},
   "source": [
    "## "
   ]
  }
 ],
 "metadata": {
  "jupytext": {
   "cell_metadata_filter": "-all",
   "main_language": "python",
   "notebook_metadata_filter": "-all"
  }
 },
 "nbformat": 4,
 "nbformat_minor": 5
}
