{
 "cells": [
  {
   "cell_type": "code",
   "execution_count": null,
   "id": "3b9857e7",
   "metadata": {
    "lines_to_next_cell": 0
   },
   "outputs": [],
   "source": [
    "import pandas as pd\n",
    "import seaborn as sns\n",
    "import numpy as np\n",
    "import matplotlib.pyplot as plt\n",
    "from nltk import FreqDist\n",
    "\n",
    "\n",
    "def most_frequent_actions(plans, n):\n",
    "    actions = np.concatenate(plans)\n",
    "    counter = FreqDist(actions)\n",
    "    return pd.DataFrame(counter.most_common(n), columns=[\"action\", \"count\"])\n",
    "\n",
    "\n",
    "def most_frequent_objects(plans, n):\n",
    "    objects = np.concatenate(\n",
    "        plans.apply(lambda plan:\n",
    "                    np.concatenate([action.split()[1:]\n",
    "                    for action in plan]))\n",
    "    )\n",
    "    counter = FreqDist(objects)\n",
    "    return pd.DataFrame(counter.most_common(n), columns=[\"object\", \"count\"])"
   ]
  },
  {
   "cell_type": "code",
   "execution_count": null,
   "id": "85f3ade7",
   "metadata": {
    "lines_to_next_cell": 0
   },
   "outputs": [],
   "source": [
    "TRAIN_URL = \"https://www.famaf.unc.edu.ar/~nocampo043/training-instances.parquet.gzip\"\n",
    "TEST_URL = \"https://www.famaf.unc.edu.ar/~nocampo043/evaluation-instances.parquet.gzip\"\n",
    "\n",
    "df_train = pd.read_parquet(TRAIN_URL)\n",
    "df_test = pd.read_parquet(TEST_URL)\n",
    "df_train[\"type_of_instance\"] = \"training\"\n",
    "df_test[\"type_of_instance\"] = \"testing\"\n",
    "df = pd.concat([df_train, df_test], ignore_index=True)"
   ]
  },
  {
   "cell_type": "markdown",
   "id": "de9bf287",
   "metadata": {
    "lines_to_next_cell": 0
   },
   "source": [
    "## Common length of the plans"
   ]
  },
  {
   "cell_type": "code",
   "execution_count": null,
   "id": "5a145f5b",
   "metadata": {
    "lines_to_next_cell": 0
   },
   "outputs": [],
   "source": [
    "df[\"plan_length\"] = df[\"relaxed_plan\"].apply(lambda plan: len(plan))\n",
    "plt.figure(figsize=(20,10))\n",
    "sns.countplot(data=df, x=\"plan_length\", hue=\"type_of_instance\")"
   ]
  },
  {
   "cell_type": "markdown",
   "id": "fe050759",
   "metadata": {
    "lines_to_next_cell": 0
   },
   "source": [
    "## Frequent actions"
   ]
  },
  {
   "cell_type": "code",
   "execution_count": null,
   "id": "aacf2712",
   "metadata": {
    "lines_to_next_cell": 0
   },
   "outputs": [],
   "source": [
    "plt.figure(figsize=(20, 10))\n",
    "sns.barplot(data=most_frequent_actions(df_train[\"relaxed_plan\"], 25),\n",
    "            x=\"action\",\n",
    "            y=\"count\")\n",
    "plt.xticks(rotation=90)"
   ]
  },
  {
   "cell_type": "code",
   "execution_count": null,
   "id": "578bb3e2",
   "metadata": {
    "lines_to_next_cell": 0
   },
   "outputs": [],
   "source": [
    "plt.figure(figsize=(20,10))\n",
    "sns.barplot(data=most_frequent_actions(df_test[\"relaxed_plan\"], 25),\n",
    "            x=\"action\",\n",
    "            y=\"count\")\n",
    "plt.xticks(rotation=90)"
   ]
  },
  {
   "cell_type": "markdown",
   "id": "71c67e58",
   "metadata": {
    "lines_to_next_cell": 0
   },
   "source": [
    "## Frequent objects"
   ]
  },
  {
   "cell_type": "code",
   "execution_count": null,
   "id": "6222c49f",
   "metadata": {
    "lines_to_next_cell": 0
   },
   "outputs": [],
   "source": [
    "plt.figure(figsize=(20,10))\n",
    "sns.barplot(data=most_frequent_objects(df_train[\"relaxed_plan\"], 25),\n",
    "            x=\"object\",\n",
    "            y=\"count\")\n",
    "plt.xticks(rotation=90)"
   ]
  },
  {
   "cell_type": "code",
   "execution_count": null,
   "id": "c65f89bb",
   "metadata": {
    "lines_to_next_cell": 0
   },
   "outputs": [],
   "source": [
    "plt.figure(figsize=(20,10))\n",
    "sns.barplot(data=most_frequent_objects(df_test[\"relaxed_plan\"], 25),\n",
    "            x=\"object\",\n",
    "            y=\"count\")\n",
    "plt.xticks(rotation=90)"
   ]
  },
  {
   "cell_type": "markdown",
   "id": "5bc3b490",
   "metadata": {
    "lines_to_next_cell": 0
   },
   "source": [
    "## Good actions that are contained in relaxed plans"
   ]
  },
  {
   "cell_type": "code",
   "execution_count": null,
   "id": "50ae5e53",
   "metadata": {
    "lines_to_next_cell": 0
   },
   "outputs": [],
   "source": [
    "(\n",
    "    df_train[[\"good_operators\", \"relaxed_plan\"]]\n",
    "        .apply(lambda row: sum(action in row[0] for action in row[1]), axis=1)\n",
    "        .to_frame()\n",
    "        .rename(columns={0: \"good_ops_in_relaxed\"})\n",
    "        .join(df_train[\"relaxed_plan\"].apply(lambda plan: len(plan)))\n",
    "        .describe()\n",
    ")"
   ]
  },
  {
   "cell_type": "code",
   "execution_count": null,
   "id": "65833f31",
   "metadata": {},
   "outputs": [],
   "source": [
    "(\n",
    "    df_test[[\"good_operators\", \"relaxed_plan\"]]\n",
    "        .apply(lambda row: sum(action in row[0] for action in row[1]), axis=1)\n",
    "        .to_frame()\n",
    "        .rename(columns={0: \"good_ops_in_relaxed\"})\n",
    "        .join(df_test[\"relaxed_plan\"].apply(lambda plan: len(plan)))\n",
    "        .describe()\n",
    ")"
   ]
  }
 ],
 "metadata": {
  "jupytext": {
   "cell_metadata_filter": "-all",
   "main_language": "python",
   "notebook_metadata_filter": "-all"
  }
 },
 "nbformat": 4,
 "nbformat_minor": 5
}
